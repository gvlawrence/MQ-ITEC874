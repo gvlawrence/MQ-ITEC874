{
 "cells": [
  {
   "cell_type": "markdown",
   "metadata": {},
   "source": [
    "<center><b>Python Crash Course</b><br />\n",
    "Fred Amouzgar - Macquarie University - August 2018</center>"
   ]
  },
  {
   "cell_type": "markdown",
   "metadata": {},
   "source": [
    "<img style=\"background-color: darkblue\" src=\"https://www.python.org/static/img/python-logo@2x.png\" />"
   ]
  },
  {
   "cell_type": "markdown",
   "metadata": {},
   "source": [
    "<font size=5>Python</font> is an interpreted high-level programming language for general-purpose programming.Python features a dynamic type system and automatic memory management. It supports multiple programming paradigms, including <b><u>object-oriented</u>, <u>imperative</u>, <u>functional</u> and <u>procedural</u></b>, and has a large and comprehensive standard library. <a href=\"https://en.wikipedia.org/wiki/Python_(programming_language)\">[Wiki]</a>"
   ]
  },
  {
   "cell_type": "markdown",
   "metadata": {},
   "source": [
    "1- Printing in Python (Press Ctrl+Enter for execution):"
   ]
  },
  {
   "cell_type": "code",
   "execution_count": 1,
   "metadata": {},
   "outputs": [
    {
     "name": "stdout",
     "output_type": "stream",
     "text": [
      "Hello World!\n",
      "Hello World!\n"
     ]
    }
   ],
   "source": [
    "print(\"Hello World!\") #Double quote\n",
    "print('Hello World!') #single quote"
   ]
  },
  {
   "cell_type": "markdown",
   "metadata": {},
   "source": [
    "Ex01- Print you name bellow:"
   ]
  },
  {
   "cell_type": "code",
   "execution_count": null,
   "metadata": {
    "collapsed": true
   },
   "outputs": [],
   "source": []
  },
  {
   "cell_type": "markdown",
   "metadata": {},
   "source": [
    "2- Arithmetics. Add 140 and 40, Subtract 130 and 20, Multiply 65 and 22 and divide 20 by 3:"
   ]
  },
  {
   "cell_type": "code",
   "execution_count": 4,
   "metadata": {},
   "outputs": [
    {
     "name": "stdout",
     "output_type": "stream",
     "text": [
      "140 + 40 = 180\n",
      "130 - 20 = 110\n",
      "65 x 22 = 1430\n",
      "20 / 3 = 6.666666666666667\n"
     ]
    }
   ],
   "source": [
    "print(\"140 + 40 = \" + str(140 + 40))\n",
    "print(\"130 - 20 = \" + str(130 - 20))\n",
    "print(\"65 x 22 = \" + str(65 * 22))\n",
    "print(\"20 / 3 = \" + str(20/3))"
   ]
  },
  {
   "cell_type": "markdown",
   "metadata": {},
   "source": [
    "Ex02- Calculate $\\dfrac{20 * 90 - 3}{100}$"
   ]
  },
  {
   "cell_type": "code",
   "execution_count": null,
   "metadata": {
    "collapsed": true
   },
   "outputs": [],
   "source": []
  },
  {
   "cell_type": "code",
   "execution_count": 6,
   "metadata": {},
   "outputs": [
    {
     "name": "stdout",
     "output_type": "stream",
     "text": [
      "ans= 17.97\n"
     ]
    }
   ],
   "source": [
    "print(\"ans=\",(20*90-3)/100)"
   ]
  },
  {
   "cell_type": "markdown",
   "metadata": {},
   "source": [
    "3- In Python we can store characters (letters, numbers, spaces, ...) by putting them in single/double quotes. When using +, our strings stick together. This is called String concatenation:"
   ]
  },
  {
   "cell_type": "code",
   "execution_count": 3,
   "metadata": {},
   "outputs": [
    {
     "name": "stdout",
     "output_type": "stream",
     "text": [
      "I love Machine Learning!\n"
     ]
    }
   ],
   "source": [
    "print('I love '+ \"Machine Learning!\")"
   ]
  },
  {
   "cell_type": "markdown",
   "metadata": {},
   "source": [
    "Ex03- Use concatenation (+) to join your first name and last name and print them out:"
   ]
  },
  {
   "cell_type": "code",
   "execution_count": null,
   "metadata": {
    "collapsed": true
   },
   "outputs": [],
   "source": []
  },
  {
   "cell_type": "markdown",
   "metadata": {},
   "source": [
    "4- The length of a string is measured by <b>len()</b> function.<br />\n",
    "Accessing characters is by using <b>[]</b>. Python is a zero-index programming language."
   ]
  },
  {
   "cell_type": "code",
   "execution_count": 4,
   "metadata": {},
   "outputs": [
    {
     "name": "stdout",
     "output_type": "stream",
     "text": [
      "23\n",
      "F\n",
      "Fred\n"
     ]
    }
   ],
   "source": [
    "print(len(\"How long am I exactly?!\"))\n",
    "print(\"Fred is a student.\"[0])\n",
    "print(\"Fred is a student.\"[0:4]) # Character index 0 to 4 (Non-inclusive)"
   ]
  },
  {
   "cell_type": "markdown",
   "metadata": {},
   "source": [
    "Ex04- How many characters are in your last name?"
   ]
  },
  {
   "cell_type": "code",
   "execution_count": null,
   "metadata": {
    "collapsed": true
   },
   "outputs": [],
   "source": []
  },
  {
   "cell_type": "markdown",
   "metadata": {},
   "source": [
    "5- Variables are containers which can store data. Python does not need variable declaration. = sign is used for assignment. <br />\n",
    "Numbers don't need the double/single qoutes when we store them."
   ]
  },
  {
   "cell_type": "code",
   "execution_count": 5,
   "metadata": {},
   "outputs": [
    {
     "name": "stdout",
     "output_type": "stream",
     "text": [
      "Greetings Jason! You should pay 450$.\n"
     ]
    }
   ],
   "source": [
    "name = \"Jason\"\n",
    "price = 150\n",
    "number_of_products = 3\n",
    "message = \"Greetings \" + name + \"!\" + \" You should pay \" + str(price * number_of_products) + \"$.\"\n",
    "print(message)"
   ]
  },
  {
   "cell_type": "markdown",
   "metadata": {},
   "source": [
    "6- Python classifies data into different categories called data types. We can check that by using <i><b>type()</b></i> method.<br />\n",
    "We can cast (convert) types using these funtions: <b>int(), float(), str()</b>"
   ]
  },
  {
   "cell_type": "code",
   "execution_count": 6,
   "metadata": {},
   "outputs": [
    {
     "name": "stdout",
     "output_type": "stream",
     "text": [
      "<class 'int'>\n",
      "<class 'bool'>\n",
      "<class 'float'>\n",
      "4.8\n"
     ]
    }
   ],
   "source": [
    "print(type(23))\n",
    "print(type(True))\n",
    "print(type(3.14))\n",
    "s = \"24\"\n",
    "print(int(s)/5)"
   ]
  },
  {
   "cell_type": "markdown",
   "metadata": {},
   "source": [
    "Ex05- Create two strings called a and b, a = \"12\" and b = \"15\". Cast them to integer and print the multiplication."
   ]
  },
  {
   "cell_type": "code",
   "execution_count": null,
   "metadata": {
    "collapsed": true
   },
   "outputs": [],
   "source": []
  },
  {
   "cell_type": "markdown",
   "metadata": {},
   "source": [
    "7- A Boolean value is either True or False. Equality, non-equality and relative operations such as greater than and lesser than, create boolean output."
   ]
  },
  {
   "cell_type": "code",
   "execution_count": 7,
   "metadata": {},
   "outputs": [
    {
     "name": "stdout",
     "output_type": "stream",
     "text": [
      "True\n",
      "True\n",
      "False\n",
      "True\n",
      "False\n",
      "True\n"
     ]
    }
   ],
   "source": [
    "print(True) #True\n",
    "print(\"cat\" == \"cat\") #True\n",
    "print(21 == 22) #False - Equality\n",
    "print(21 != 22) #True - Not equal\n",
    "print(2 >= 3) #False - Greater than\n",
    "print(2<12) #True - Lesser than"
   ]
  },
  {
   "cell_type": "markdown",
   "metadata": {},
   "source": [
    "8- If statement is a conditional that let us run code when the condition is <b>True</b>. Blocks in Python must have <b>indentation</b>, including if/elif/else statements.<br />\n",
    "Logical operators are used to make complex expressions that evaluate to a Boolean. Logical operators are <b>and, or</b> and <b>not.</b>"
   ]
  },
  {
   "cell_type": "code",
   "execution_count": 8,
   "metadata": {},
   "outputs": [
    {
     "name": "stdout",
     "output_type": "stream",
     "text": [
      "The water is too hot!\n",
      "The temperature is ok!\n",
      "The water is too cold.\n"
     ]
    }
   ],
   "source": [
    "temp = 40\n",
    "if temp > 30:\n",
    "    print(\"The water is too hot!\")\n",
    "else:\n",
    "    print(\"The temperature is ok!\")\n",
    "    \n",
    "###################################\n",
    "\n",
    "temp = 20\n",
    "if temp > 30: \n",
    "    print(\"The water is too hot!\")\n",
    "else:\n",
    "    print(\"The temperature is ok!\")\n",
    "\n",
    "###################################\n",
    "    \n",
    "temp = 5\n",
    "if temp > 30:                    # temp > 30\n",
    "    print(\"The water is too hot!\")\n",
    "elif temp <= 30 and temp >=20:  # 20 < temp < 30\n",
    "    print(\"The temperature is ok!\")\n",
    "else:                           # temp < 20\n",
    "    print(\"The water is too cold.\")"
   ]
  },
  {
   "cell_type": "markdown",
   "metadata": {},
   "source": [
    "Modulus Operator: Python provides the modulus operator (%), which yields the remainder after integer division. The expression x % y yields the remainder after x is divided by y. Thus, 7 % 4 yields 3 and 17 % 5 yields 2. This operator is most commonly used with integer operands, but also can be used with other arithmetic types.\n",
    "\n",
    "EX06- Write a program that gets two integers called a and b (set their values using assignment, i.e. a=12, b=5). The program determines and prints whether the first is a multiple of the second (HINT: Use the modulus operator (%).)."
   ]
  },
  {
   "cell_type": "code",
   "execution_count": null,
   "metadata": {
    "collapsed": true
   },
   "outputs": [],
   "source": []
  },
  {
   "cell_type": "markdown",
   "metadata": {},
   "source": [
    "9- A <b>for loop</b> runs a chunk of code for a specified number of times. It's very useful for repetitive code. One very helful function in Python is <b>range</b> function which generates a range of numbers for our loops. <b>range(START, END, STEP)</b> and END is non-inclusive."
   ]
  },
  {
   "cell_type": "code",
   "execution_count": 9,
   "metadata": {},
   "outputs": [
    {
     "name": "stdout",
     "output_type": "stream",
     "text": [
      "0\n",
      "1\n",
      "2\n",
      "############\n",
      "0\n",
      "1\n",
      "2\n",
      "############\n",
      "10\n",
      "9\n",
      "8\n",
      "7\n",
      "6\n",
      "5\n",
      "4\n",
      "3\n",
      "2\n",
      "1\n"
     ]
    }
   ],
   "source": [
    "for i in range(0, 3): # 0, 1, 2\n",
    "    print(i)\n",
    "    \n",
    "print(\"############\")\n",
    "    \n",
    "for i in range(3): # 0, 1, 2\n",
    "    print(i)\n",
    "\n",
    "print(\"############\")\n",
    "\n",
    "for i in range(10,0,-1): # 10,...,1 : A countdown\n",
    "    print(i)"
   ]
  },
  {
   "cell_type": "markdown",
   "metadata": {},
   "source": [
    "10- A <b>Function</b> is a chunk of reusable code. A function can <b>return</b> a value to the caller. Functions are defined by <b>def</b> keyword. For example, the code below is a multiplier funtion."
   ]
  },
  {
   "cell_type": "code",
   "execution_count": 10,
   "metadata": {},
   "outputs": [
    {
     "name": "stdout",
     "output_type": "stream",
     "text": [
      "200\n"
     ]
    }
   ],
   "source": [
    "def multiply(p1, p2):  # function Definition\n",
    "    return p1 * p2\n",
    "\n",
    "print(multiply(10,20)) # Function call"
   ]
  },
  {
   "cell_type": "markdown",
   "metadata": {},
   "source": [
    "Ex07- Implement the following function fahrenheit to return the Fahrenheit equivalent of a Celsius temperature.\n",
    "<br />$F = \\dfrac{9}{5}C + 32$ <br />\n",
    "Use this function to write a program that prints a chart showing the Fahrenheit equivalents of all Celsius temperatures 0–100 degrees. Use one position of precision to the right of the decimal point for\n",
    "the results."
   ]
  },
  {
   "cell_type": "code",
   "execution_count": null,
   "metadata": {
    "collapsed": true
   },
   "outputs": [],
   "source": []
  },
  {
   "cell_type": "markdown",
   "metadata": {},
   "source": [
    "11- A <b>module</b> is an external chunk of Python code that you can <b>import</b> and use in your code.<br />\n",
    "We can import only one function/class from a module. We can also rename the modules with <b>as</b> for the sake of simplicity."
   ]
  },
  {
   "cell_type": "code",
   "execution_count": 11,
   "metadata": {},
   "outputs": [
    {
     "name": "stdout",
     "output_type": "stream",
     "text": [
      "Roll a dice: 2\n",
      "Ceil of 2.3: 3\n",
      "Floor of 1.2: 1\n",
      "Floor of 4.3: 4\n"
     ]
    }
   ],
   "source": [
    "import random\n",
    "print(\"Roll a dice:\", random.randint(1,6))\n",
    "\n",
    "import math\n",
    "print(\"Ceil of 2.3:\", math.ceil(2.3))\n",
    "print(\"Floor of 1.2:\", math.floor(1.2))\n",
    "\n",
    "from math import floor # importing a single function from a module\n",
    "import math as m\n",
    "print(\"Floor of 4.3:\", m.floor(4.3))"
   ]
  },
  {
   "cell_type": "markdown",
   "metadata": {},
   "source": [
    "12- Python has 3 popular data structures, <b>Lists, Dictionaries, and Tuples</b>.<br />\n",
    "<b>Lists</b> contain multiple values and are made using <b>[]</b>. We can access each element by its index. Negative index helps us go backward in the list.<br />\n",
    "A <b>Dictionary</b> stores items by pairing a key and a value. The <b>key</b> works like an index in lists.<br />\n",
    "<b>Tuples</b> are like lists but are declared by <b>()</b> and are immutable. Immutable is a fancy way of saying that tuples cannot change after initialization. Creating a tuple with<br>aTuple = 12, 15, 30<br>or<br>aTuple = (12, 15, 30)<br>is called packing a tuple, because the values are “packed into” the tuple. Tuples and other sequences also can be unpacked—the values stored in the sequence are assigned to various identifiers. Unpacking is a useful programming shortcut for assigning values to multiple variables in a single statement."
   ]
  },
  {
   "cell_type": "code",
   "execution_count": 12,
   "metadata": {
    "scrolled": true
   },
   "outputs": [
    {
     "name": "stdout",
     "output_type": "stream",
     "text": [
      "############# LISTS #############\n",
      "one\n",
      "two\n",
      "three\n",
      "############\n",
      "three\n",
      "two\n",
      "one\n",
      "############\n",
      "Sum of all the elements of the list:  54\n",
      "Average of the elements of the list:  13.5\n",
      "######### Dictionary ##########\n",
      "Fantastic for enterprise applications\n",
      "{'python': 'An easy programming language', 'C++': 'A great System programming language'}\n",
      "True\n",
      "True\n",
      "########## Tuple ###########\n",
      "('keyword', 2321)  :  <class 'tuple'>\n",
      "First part:  keyword\n",
      "Second part:  2321\n"
     ]
    }
   ],
   "source": [
    "############# LISTS #############\n",
    "print('############# LISTS #############')\n",
    "words = [\"one\", \"two\", \"three\"] # A list\n",
    "for i in range(len(words)): # Traversing all the elements of the list\n",
    "    print(words[i])\n",
    "print(\"############\")\n",
    "print(words[-1])\n",
    "print(words[-2])\n",
    "print(words[-3])\n",
    "print(\"############\")\n",
    "numbers= [12,13,14,15]\n",
    "print(\"Sum of all the elements of the list: \",sum(numbers))\n",
    "print(\"Average of the elements of the list: \",sum(numbers)/len(numbers))\n",
    "\n",
    "######### Dictionary ##########\n",
    "print(\"######### Dictionary ##########\")\n",
    "dictionary = {\"python\":\"An easy programming language\",\n",
    "              \"C++\":\"A great System programming language\",\n",
    "              \"Java\":\"Fantastic for enterprise applications\"}\n",
    "print(dictionary[\"Java\"])\n",
    "del dictionary[\"Java\"] # Deleting elements from the dictionary\n",
    "print(dictionary)\n",
    "print('C++' in dictionary) # Checking an element is IN the dictionary\n",
    "print('Java' not in dictionary) # Checking an element is NOT IN the dictionary\n",
    "\n",
    "########## Tuple ###########\n",
    "print(\"########## Tuple ###########\")\n",
    "def map():\n",
    "    key = \"keyword\"\n",
    "    value = 2321\n",
    "    return key, value\n",
    "\n",
    "t = map()\n",
    "print(t,\" : \",type(t))\n",
    "a, b = t\n",
    "print(\"First part: \",a)\n",
    "print(\"Second part: \", b)"
   ]
  },
  {
   "cell_type": "markdown",
   "metadata": {},
   "source": [
    "Run Mongo Server: <b>\\$ mongod</b><br />\n",
    "Download Trump’s tweets in JSON file fromat: http://stash.compciv.org/2017/realdonaldtrump-tweets.json <br />\n",
    "Import the JSON file in MongoDB (Go to the file’s directory): <b>\\$ mongoimport --db trump --collection tweets --type json --drop --jsonArray --file realdonaldtrump-tweets.json</b><br />\n",
    "The following code will print out the text of all the tweets that have \"Hillary\"."
   ]
  },
  {
   "cell_type": "code",
   "execution_count": 5,
   "metadata": {},
   "outputs": [
    {
     "ename": "ModuleNotFoundError",
     "evalue": "No module named 'pymongo'",
     "output_type": "error",
     "traceback": [
      "\u001b[1;31m---------------------------------------------------------------------------\u001b[0m",
      "\u001b[1;31mModuleNotFoundError\u001b[0m                       Traceback (most recent call last)",
      "\u001b[1;32m<ipython-input-5-a330a9e58a5d>\u001b[0m in \u001b[0;36m<module>\u001b[1;34m()\u001b[0m\n\u001b[1;32m----> 1\u001b[1;33m \u001b[1;32mfrom\u001b[0m \u001b[0mpymongo\u001b[0m \u001b[1;32mimport\u001b[0m \u001b[0mMongoClient\u001b[0m\u001b[1;33m\u001b[0m\u001b[0m\n\u001b[0m\u001b[0;32m      2\u001b[0m \u001b[1;32mimport\u001b[0m \u001b[0mre\u001b[0m\u001b[1;33m\u001b[0m\u001b[0m\n\u001b[0;32m      3\u001b[0m \u001b[1;33m\u001b[0m\u001b[0m\n\u001b[0;32m      4\u001b[0m \u001b[0mregx\u001b[0m \u001b[1;33m=\u001b[0m \u001b[0mre\u001b[0m\u001b[1;33m.\u001b[0m\u001b[0mcompile\u001b[0m\u001b[1;33m(\u001b[0m\u001b[1;34m\"hillary\"\u001b[0m\u001b[1;33m,\u001b[0m \u001b[0mre\u001b[0m\u001b[1;33m.\u001b[0m\u001b[0mIGNORECASE\u001b[0m\u001b[1;33m)\u001b[0m\u001b[1;33m\u001b[0m\u001b[0m\n\u001b[0;32m      5\u001b[0m \u001b[0mconn\u001b[0m \u001b[1;33m=\u001b[0m \u001b[0mMongoClient\u001b[0m\u001b[1;33m(\u001b[0m\u001b[1;34m\"mongodb://localhost:27017\"\u001b[0m\u001b[1;33m)\u001b[0m\u001b[1;33m\u001b[0m\u001b[0m\n",
      "\u001b[1;31mModuleNotFoundError\u001b[0m: No module named 'pymongo'"
     ]
    }
   ],
   "source": [
    "from pymongo import MongoClient\n",
    "import re\n",
    "\n",
    "regx = re.compile(\"hillary\", re.IGNORECASE)\n",
    "conn = MongoClient(\"mongodb://localhost:27017\")\n",
    "db = conn.trump\n",
    "tweets = db.tweets.find({'text':{'$regex':regx}},{\"_id\":\"0\",\"text\":\"1\", \"source\":\"1\"}) #db.collectionname.find({'files':{'$regex':'^File'}})\n",
    "\n",
    "count = 0\n",
    "for e in tweets:\n",
    "    count += 1\n",
    "    print(e['text'])\n",
    "    \n",
    "print(\"There are \", count, \" tweets about Hillary.\")"
   ]
  },
  {
   "cell_type": "markdown",
   "metadata": {},
   "source": [
    "EX08- Count the total number of tweets consist of \"Hillary\" and the number of tweets consist of \"Hillary\" that have been sent from Android and from iPhone. (Hint: Use Regular Expressions)(There are different ways to do it. The counting process must be handled by Python)"
   ]
  },
  {
   "cell_type": "code",
   "execution_count": null,
   "metadata": {
    "collapsed": true
   },
   "outputs": [],
   "source": []
  }
 ],
 "metadata": {
  "kernelspec": {
   "display_name": "Python 3",
   "language": "python",
   "name": "python3"
  },
  "language_info": {
   "codemirror_mode": {
    "name": "ipython",
    "version": 3
   },
   "file_extension": ".py",
   "mimetype": "text/x-python",
   "name": "python",
   "nbconvert_exporter": "python",
   "pygments_lexer": "ipython3",
   "version": "3.6.3"
  }
 },
 "nbformat": 4,
 "nbformat_minor": 2
}
